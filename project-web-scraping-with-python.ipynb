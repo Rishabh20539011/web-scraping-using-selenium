{
 "cells": [
  {
   "cell_type": "markdown",
   "metadata": {
    "id": "PaijLndWI84r"
   },
   "source": [
    "# Scrapping most popular CAD models in different categeroies from GRABCAD\n",
    "\n",
    "> GRABCAD ( largest online community of professional engineers, designers & students to work and share there cad models among the community )"
   ]
  },
  {
   "cell_type": "markdown",
   "metadata": {
    "id": "rq8pQ_iVI9GK"
   },
   "source": [
    "<img src='https://drive.google.com/uc?id=1ph-gIOrM681yAFWOfr6wP82h6ottGjdy'>"
   ]
  },
  {
   "cell_type": "markdown",
   "metadata": {
    "id": "357jbTL7I9LH"
   },
   "source": [
    "**INTRODUCTION:**\n",
    "\n",
    "Grabcad is a platform where we can upload or download CAD models to show up our work and get a chance to win exciting prizes too. Basically GRABCAD evolved as a community of engineers and currently there 52 lakh registered users and 31 lakh open source models available on the website . This vast [free cad model library](https://grabcad.com/library) is very helpful for students and learning professionals who wants to be a part of CAD related jobs or research for learning different designing softwares such as [Solidworks](https://grabcad.com/library?page=1&time=all_time&sort=popular&softwares=solidworks),  [Catia](https://grabcad.com/library?page=1&time=all_time&sort=popular&softwares=catia),  [Autocad](https://grabcad.com/library?page=1&time=all_time&sort=popular&softwares=autocad),  [pro-E](https://grabcad.com/library?page=1&time=all_time&sort=popular&softwares=pro-slash-engineer-wildfire) etc. \n",
    "It brings together all the tools engineers need to manage and share CAD files into one platform.\n",
    "\n",
    "**OBJECTIVE:**\n",
    "\n",
    "As a Data Science Engineer we aims to get the all time most downloaded design models by parsing the information from this website in to a form of tabular data under different categories of knowledge domain such as [Machine Design](https://grabcad.com/library?page=1&time=all_time&sort=popular&categories=machine-design),  [3D printing](https://grabcad.com/library?page=1&time=all_time&sort=popular&categories=3d-printing),  [Aerospace](https://grabcad.com/library?page=1&time=all_time&sort=popular&categories=aerospace),  [Electrical](https://grabcad.com/library?page=1&time=all_time&sort=popular&categories=electrical)  so that we can further get to know the interests among the community, difficulty level faced to design the models and ofcourse to distribute the prizes for the most popular ones. \n",
    "\n",
    "(In this notebook we will limit our objective to scrape the data for each category separately to limit the dataset , We can also combine the data for different categories and further analysis and testing on that complete data can be done on a similar path)\n",
    "\n",
    "**The overall steps I'll follow are:**\n",
    "\n",
    "1. Understanding the structure of [grabcad](https://grabcad.com/library)website\n",
    "2. Install and Import required libraries\n",
    "3. Download the page and extract the urls from [grabcad's all time most downloaded library page](https://grabcad.com/library?page=1&time=all_time&sort=most_downloaded) using <code>selenium.webdriver</code> and <code>kora.selenium</code>  under different cageories (Total 33 gategories are there on the page) \n",
    "4. Extract model links( 100 per page) from each url extracted above under the required categories among those 33 mentioned above \n",
    "5. Download each model link and parse the data out of it in 4 categories i.e  Names, Downloads, Likes, Comments \n",
    "6. Combine extracted data into a dictionary from each category.\n",
    "7. Compiling all details into a <code>Pandas</code> dataframe and creating a CSV file\n",
    "\n",
    "**By the end of the project, is expected to create a csv file with the following information under machine design category:**\n",
    "```\n",
    "name,downloads, likes, comments\n",
    "Stepper Motor Nema 17, 41925, 575, 78\n",
    "MQ-1 Predator UAV, 31373, 802, 144\n",
    "CNC 3-axis, 30116, 994, 175\n",
    "Planetary Gearbox, 29050, 900, 189\n",
    "\n",
    "\n",
    "```\n",
    "**NOTE:**\n",
    "\n",
    "1. Grabcad is a dynamic website using javascript therefore we can not extract the webpage HTML from <code>beautiful soup</code> here, Therefore use of <code>selenium</code> is preffered for these kind of websites. But yes we can use <code>beautiful soup</code> after getting the webpage HTML from the webdriver in some websites. \n",
    "\n",
    "2. If you want to code on you local computer install <code>Selenium</code> and one of the webdriver depends on your browser to extract the page, But if you are coding on cloud based services such as google colab then you need to install <code>kora Selenium</code> but remember this <code>kora Selenium</code> will not work on binder and others so be aware."
   ]
  },
  {
   "cell_type": "markdown",
   "metadata": {
    "id": "qMaBQJ07Xe_D"
   },
   "source": [
    "# Install and Import required libraries:"
   ]
  },
  {
   "cell_type": "code",
   "execution_count": 2,
   "metadata": {
    "colab": {
     "base_uri": "https://localhost:8080/"
    },
    "executionInfo": {
     "elapsed": 16781,
     "status": "ok",
     "timestamp": 1627188744431,
     "user": {
      "displayName": "Rishabh Dwivedi",
      "photoUrl": "https://lh3.googleusercontent.com/a-/AOh14GgemZpMFBMeu70g4UbrUUqq7nk6Zce9ykzGTTpd6g=s64",
      "userId": "11333895928926712569"
     },
     "user_tz": -330
    },
    "id": "5rkbsIGIMAkS",
    "outputId": "1fd76e31-f036-4d27-e561-9bf67f558109"
   },
   "outputs": [
    {
     "name": "stdout",
     "output_type": "stream",
     "text": [
      "Requirement already satisfied: requests in /usr/local/lib/python3.7/dist-packages (2.23.0)\n",
      "Requirement already satisfied: idna<3,>=2.5 in /usr/local/lib/python3.7/dist-packages (from requests) (2.10)\n",
      "Requirement already satisfied: certifi>=2017.4.17 in /usr/local/lib/python3.7/dist-packages (from requests) (2021.5.30)\n",
      "Requirement already satisfied: urllib3!=1.25.0,!=1.25.1,<1.26,>=1.21.1 in /usr/local/lib/python3.7/dist-packages (from requests) (1.24.3)\n",
      "Requirement already satisfied: chardet<4,>=3.0.2 in /usr/local/lib/python3.7/dist-packages (from requests) (3.0.4)\n"
     ]
    }
   ],
   "source": [
    "!pip install kora -q \n",
    "!pip install requests \n",
    "from kora.selenium import wd\n",
    "from selenium.webdriver.support.ui import WebDriverWait\n",
    "from selenium.webdriver.common.by import By\n",
    "from selenium.webdriver.support import expected_conditions as EC\n",
    "\n",
    "from bs4 import BeautifulSoup\n",
    "import requests\n",
    "\n"
   ]
  },
  {
   "cell_type": "markdown",
   "metadata": {
    "id": "2TxmZPW8Zf57"
   },
   "source": [
    "# Downloading the initial page"
   ]
  },
  {
   "cell_type": "code",
   "execution_count": 3,
   "metadata": {
    "executionInfo": {
     "elapsed": 23,
     "status": "ok",
     "timestamp": 1627188744432,
     "user": {
      "displayName": "Rishabh Dwivedi",
      "photoUrl": "https://lh3.googleusercontent.com/a-/AOh14GgemZpMFBMeu70g4UbrUUqq7nk6Zce9ykzGTTpd6g=s64",
      "userId": "11333895928926712569"
     },
     "user_tz": -330
    },
    "id": "ZWrpEw0OZeEa"
   },
   "outputs": [],
   "source": [
    "## Downloading page\n",
    "\n",
    "base_url= 'https://grabcad.com/library?page=1&time=all_time&sort=most_downloaded'\n",
    "\n",
    "def most_downloaded_library(url):\n",
    "  \n",
    "  response=wd.get(url)\n",
    "  return response"
   ]
  },
  {
   "cell_type": "markdown",
   "metadata": {
    "id": "8jpBU7WpKk3X"
   },
   "source": [
    "<img src='https://drive.google.com/uc?id=131eMpuB2-2z_09sWPwN8pSKGIdsyggZw'>"
   ]
  },
  {
   "cell_type": "markdown",
   "metadata": {
    "id": "iMFQE8gwYHwV"
   },
   "source": [
    "# Extracting the categories"
   ]
  },
  {
   "cell_type": "code",
   "execution_count": 4,
   "metadata": {
    "colab": {
     "base_uri": "https://localhost:8080/"
    },
    "executionInfo": {
     "elapsed": 2366,
     "status": "ok",
     "timestamp": 1627188746777,
     "user": {
      "displayName": "Rishabh Dwivedi",
      "photoUrl": "https://lh3.googleusercontent.com/a-/AOh14GgemZpMFBMeu70g4UbrUUqq7nk6Zce9ykzGTTpd6g=s64",
      "userId": "11333895928926712569"
     },
     "user_tz": -330
    },
    "id": "5qHZOvNpNcnO",
    "outputId": "1cb3c8bf-fa17-489e-8186-6c5840d2b09a"
   },
   "outputs": [
    {
     "data": {
      "text/plain": [
       "['3d-printing',\n",
       " 'aerospace',\n",
       " 'agriculture',\n",
       " 'architecture',\n",
       " 'automotive',\n",
       " 'aviation',\n",
       " 'components',\n",
       " 'computer',\n",
       " 'construction',\n",
       " 'educational',\n",
       " 'electrical',\n",
       " 'energy-and-power',\n",
       " 'fixtures',\n",
       " 'furniture',\n",
       " 'hobby',\n",
       " 'household',\n",
       " 'industrial-design',\n",
       " 'interior-design',\n",
       " 'jewellery',\n",
       " 'just-for-fun',\n",
       " 'machine-design',\n",
       " 'marine',\n",
       " 'medical',\n",
       " 'military',\n",
       " 'miscellaneous',\n",
       " 'nature',\n",
       " 'piping',\n",
       " 'robotics',\n",
       " 'speedrun',\n",
       " 'sport',\n",
       " 'tech',\n",
       " 'tools',\n",
       " 'toys']"
      ]
     },
     "execution_count": 4,
     "metadata": {
      "tags": []
     },
     "output_type": "execute_result"
    }
   ],
   "source": [
    "## Printing categories in format for url bouilding \n",
    "\n",
    "category_names=[]           ## Category names extracted from the x_path of elements\n",
    "category_list=[]            ## List of strings in individual word (all in lower case and blank spaces is repaced by '-')\n",
    "category_url_format=[]      ## Category names in format with url building, in all there are 33 categories present \n",
    "variable=\"\"\n",
    "\n",
    "def categories_in_url_format(path):\n",
    "  \n",
    "  x_path_categories =wd.find_elements_by_xpath('//*[@id=\"community_frontend-library_models\"]/div[3]/div[1]/div[2]/div[3]/div/div[2]/div[2]/ul//li/a')\n",
    "\n",
    "  for check in x_path_categories :\n",
    "    category_names.append(check.get_attribute('text').strip())\n",
    "\n",
    "  for i in range(len(category_names)):\n",
    "    category_names[i]=category_names[i].lower()\n",
    "    Y=list(category_names[i])\n",
    "    res=[sub.replace(\" \",\"-\") for sub in Y]\n",
    "    category_list.append(res)\n",
    "\n",
    "  for j in range(len(category_list)):\n",
    "    category_url_format.append(\"\".join(category_list[j]))\n",
    "\n",
    "  return category_url_format\n",
    "\n",
    "categories_in_url_format(most_downloaded_library(base_url))\n",
    "\n"
   ]
  },
  {
   "cell_type": "markdown",
   "metadata": {
    "id": "QYYt9ffyYPy0"
   },
   "source": [
    "# Making of url's (category wise)"
   ]
  },
  {
   "cell_type": "code",
   "execution_count": 5,
   "metadata": {
    "colab": {
     "base_uri": "https://localhost:8080/",
     "height": 35
    },
    "executionInfo": {
     "elapsed": 37,
     "status": "ok",
     "timestamp": 1627188746792,
     "user": {
      "displayName": "Rishabh Dwivedi",
      "photoUrl": "https://lh3.googleusercontent.com/a-/AOh14GgemZpMFBMeu70g4UbrUUqq7nk6Zce9ykzGTTpd6g=s64",
      "userId": "11333895928926712569"
     },
     "user_tz": -330
    },
    "id": "wH1kqcpxP1Go",
    "outputId": "a1489f8e-83b2-467b-c092-5a1b88e378ed"
   },
   "outputs": [
    {
     "data": {
      "application/vnd.google.colaboratory.intrinsic+json": {
       "type": "string"
      },
      "text/plain": [
       "'https://grabcad.com/library?page=1&per_page=100&time=all_time&sort=most_downloaded&categories=machine-design'"
      ]
     },
     "execution_count": 5,
     "metadata": {
      "tags": []
     },
     "output_type": "execute_result"
    }
   ],
   "source": [
    "## Url Building of each category {Here we are woorking on machine_design category }\n",
    "\n",
    "def url_building(category, per_page):\n",
    "  \n",
    "  url_first_part='https://grabcad.com/library?page=1&'\n",
    "\n",
    "  url_second_part='per_page='+str(per_page)\n",
    "\n",
    "#### Note we can add per_page= 24 or 48 or 100 according to the number of items we want to compare on a page \n",
    "\n",
    "  url_third_part='&time=all_time&sort=most_downloaded&'\n",
    "\n",
    "  url_last_part='categories='+ category\n",
    "\n",
    "  complete_url=url_first_part+url_second_part+url_third_part+url_last_part\n",
    "\n",
    "  return complete_url\n",
    "\n",
    "url_building('machine-design',100)"
   ]
  },
  {
   "cell_type": "markdown",
   "metadata": {
    "id": "KdjpgQOSJPpS"
   },
   "source": [
    "<img src='https://drive.google.com/uc?id=1Kq8bPNQdELzJjyTL4nRxeQb1jSp6bgRj'>\n",
    "\n",
    "\n"
   ]
  },
  {
   "cell_type": "markdown",
   "metadata": {
    "id": "HlxLSc67XGFU"
   },
   "source": [
    "# Extracting each model link from individual category"
   ]
  },
  {
   "cell_type": "code",
   "execution_count": 6,
   "metadata": {
    "colab": {
     "base_uri": "https://localhost:8080/"
    },
    "executionInfo": {
     "elapsed": 3424,
     "status": "ok",
     "timestamp": 1627188750185,
     "user": {
      "displayName": "Rishabh Dwivedi",
      "photoUrl": "https://lh3.googleusercontent.com/a-/AOh14GgemZpMFBMeu70g4UbrUUqq7nk6Zce9ykzGTTpd6g=s64",
      "userId": "11333895928926712569"
     },
     "user_tz": -330
    },
    "id": "d3xwSIK1Ry5K",
    "outputId": "796e14bf-6ffb-43da-9cfe-0d9d6de2ce1e"
   },
   "outputs": [
    {
     "data": {
      "text/plain": [
       "['https://grabcad.com/library/stepper-motor-nema-17',\n",
       " 'https://grabcad.com/library/mq-1-predator-uav',\n",
       " 'https://grabcad.com/library/cnc-3-axis',\n",
       " 'https://grabcad.com/library/planetary-gearbox',\n",
       " 'https://grabcad.com/library/mechanical-horse']"
      ]
     },
     "execution_count": 6,
     "metadata": {
      "tags": []
     },
     "output_type": "execute_result"
    }
   ],
   "source": [
    "\n",
    "links=[]  ### There are 100 links in a page for every category  \n",
    "\n",
    "\n",
    "def model_links(category_page):\n",
    "  \n",
    "  response=wd.get(category_page)     ### downloading category page\n",
    "  \n",
    "  a=wd.find_elements_by_xpath('//div[@class=\"modelName text-bold\"]//a')   ### x_path to extract links, its in form of list because we used elements not element\n",
    "  \n",
    "  for individual_link in a:\n",
    "    links.append(individual_link.get_attribute('href'))         ### href tag from each x_path elemnet will provide the required links\n",
    "\n",
    "  return links\n",
    "\n",
    "model_links(url_building('machine-design',100))[:5]"
   ]
  },
  {
   "cell_type": "code",
   "execution_count": 16,
   "metadata": {
    "colab": {
     "base_uri": "https://localhost:8080/"
    },
    "executionInfo": {
     "elapsed": 772,
     "status": "ok",
     "timestamp": 1627189084116,
     "user": {
      "displayName": "Rishabh Dwivedi",
      "photoUrl": "https://lh3.googleusercontent.com/a-/AOh14GgemZpMFBMeu70g4UbrUUqq7nk6Zce9ykzGTTpd6g=s64",
      "userId": "11333895928926712569"
     },
     "user_tz": -330
    },
    "id": "56x5fW0MAPWH",
    "outputId": "a705a495-c16d-4b18-c0d4-1a32d40cf10b"
   },
   "outputs": [
    {
     "data": {
      "text/plain": [
       "200"
      ]
     },
     "execution_count": 16,
     "metadata": {
      "tags": []
     },
     "output_type": "execute_result"
    }
   ],
   "source": [
    "len(links)"
   ]
  },
  {
   "cell_type": "markdown",
   "metadata": {
    "id": "-ZXyt9jrXVgb"
   },
   "source": [
    "# Parsing data from each model link "
   ]
  },
  {
   "cell_type": "markdown",
   "metadata": {
    "id": "X8ZjqlYEI9N7"
   },
   "source": [
    "<img src='https://drive.google.com/uc?id=1EQsVzF7voBJqOS0imx-x2ZWS0zVnpfJF'>\n",
    "\n"
   ]
  },
  {
   "cell_type": "code",
   "execution_count": 8,
   "metadata": {
    "colab": {
     "base_uri": "https://localhost:8080/"
    },
    "executionInfo": {
     "elapsed": 250781,
     "status": "ok",
     "timestamp": 1627189000957,
     "user": {
      "displayName": "Rishabh Dwivedi",
      "photoUrl": "https://lh3.googleusercontent.com/a-/AOh14GgemZpMFBMeu70g4UbrUUqq7nk6Zce9ykzGTTpd6g=s64",
      "userId": "11333895928926712569"
     },
     "user_tz": -330
    },
    "id": "ZqxzDCx0TKCY",
    "outputId": "8ef589a4-155c-48e6-b60d-62eda32c4b4a"
   },
   "outputs": [
    {
     "data": {
      "text/plain": [
       "[['Stepper Motor Nema 17'],\n",
       " ['MQ-1 Predator UAV'],\n",
       " ['CNC 3 axis'],\n",
       " ['Planetary Gearbox'],\n",
       " ['mechanical horse'],\n",
       " ['Brake Disc Brembo'],\n",
       " ['Forklift truck'],\n",
       " ['FANUC-430 Robot'],\n",
       " ['TOWER CRANE -ASSEMBLY-'],\n",
       " ['Formula car full chassis']]"
      ]
     },
     "execution_count": 8,
     "metadata": {
      "tags": []
     },
     "output_type": "execute_result"
    }
   ],
   "source": [
    "\n",
    "cad_model_names=[]    ### Model names written inside each link of `machine_design category \n",
    "counts=[]             ### Counts the number of downloads, likes, comments \n",
    "\n",
    "def get_most_downloaded(variable_link): \n",
    "  \n",
    "    for i in range(len(links)):\n",
    "      wd.get(links[i])\n",
    "      cad_model_names.append([tag.text for tag in WebDriverWait(wd, 20).until(EC.visibility_of_all_elements_located((By.XPATH,\"//h1[@class='content-title title--fluid is-3 ng-binding']\")))])\n",
    "      counts.append([tag.text for tag in WebDriverWait(wd, 20).until(EC.visibility_of_all_elements_located((By.XPATH,\"//span[@class='count ng-binding']\")))])\n",
    "    \n",
    "    return cad_model_names\n",
    "    return counts\n",
    "\n",
    "get_most_downloaded(model_links(url_building('machine-design',100)))[:10]"
   ]
  },
  {
   "cell_type": "code",
   "execution_count": 9,
   "metadata": {
    "colab": {
     "base_uri": "https://localhost:8080/"
    },
    "executionInfo": {
     "elapsed": 43,
     "status": "ok",
     "timestamp": 1627189000959,
     "user": {
      "displayName": "Rishabh Dwivedi",
      "photoUrl": "https://lh3.googleusercontent.com/a-/AOh14GgemZpMFBMeu70g4UbrUUqq7nk6Zce9ykzGTTpd6g=s64",
      "userId": "11333895928926712569"
     },
     "user_tz": -330
    },
    "id": "YoOLMaQyWfQ1",
    "outputId": "cb9c4f12-7886-4355-c3d2-60a491f9f020"
   },
   "outputs": [
    {
     "data": {
      "text/plain": [
       "[['41926', '575', '78'],\n",
       " ['31373', '802', '144'],\n",
       " ['30119', '995', '175'],\n",
       " ['29051', '900', '189'],\n",
       " ['26882', '721', '347'],\n",
       " ['26005', '537', '122'],\n",
       " ['23363', '794', '189'],\n",
       " ['22948', '495', '93'],\n",
       " ['22255', '693', '107'],\n",
       " ['20407', '689', '64']]"
      ]
     },
     "execution_count": 9,
     "metadata": {
      "tags": []
     },
     "output_type": "execute_result"
    }
   ],
   "source": [
    "counts[:10]   ### Counts the number of downloads, likes, comments "
   ]
  },
  {
   "cell_type": "markdown",
   "metadata": {
    "id": "zFHffz5oI9RB"
   },
   "source": [
    "# Combine extracted data into a list of dictionary"
   ]
  },
  {
   "cell_type": "code",
   "execution_count": 10,
   "metadata": {
    "colab": {
     "base_uri": "https://localhost:8080/"
    },
    "executionInfo": {
     "elapsed": 35,
     "status": "ok",
     "timestamp": 1627189000960,
     "user": {
      "displayName": "Rishabh Dwivedi",
      "photoUrl": "https://lh3.googleusercontent.com/a-/AOh14GgemZpMFBMeu70g4UbrUUqq7nk6Zce9ykzGTTpd6g=s64",
      "userId": "11333895928926712569"
     },
     "user_tz": -330
    },
    "id": "-V5U81M3WwOU",
    "outputId": "1afccd96-b72e-4910-b261-4d06752b9e3b"
   },
   "outputs": [
    {
     "data": {
      "text/plain": [
       "[{'comments': '78',\n",
       "  'downloads': '41926',\n",
       "  'likes': '575',\n",
       "  'name': 'Stepper Motor Nema 17'},\n",
       " {'comments': '144',\n",
       "  'downloads': '31373',\n",
       "  'likes': '802',\n",
       "  'name': 'MQ-1 Predator UAV'},\n",
       " {'comments': '175',\n",
       "  'downloads': '30119',\n",
       "  'likes': '995',\n",
       "  'name': 'CNC 3 axis'},\n",
       " {'comments': '189',\n",
       "  'downloads': '29051',\n",
       "  'likes': '900',\n",
       "  'name': 'Planetary Gearbox'},\n",
       " {'comments': '347',\n",
       "  'downloads': '26882',\n",
       "  'likes': '721',\n",
       "  'name': 'mechanical horse'},\n",
       " {'comments': '122',\n",
       "  'downloads': '26005',\n",
       "  'likes': '537',\n",
       "  'name': 'Brake Disc Brembo'},\n",
       " {'comments': '189',\n",
       "  'downloads': '23363',\n",
       "  'likes': '794',\n",
       "  'name': 'Forklift truck'},\n",
       " {'comments': '93',\n",
       "  'downloads': '22948',\n",
       "  'likes': '495',\n",
       "  'name': 'FANUC-430 Robot'},\n",
       " {'comments': '107',\n",
       "  'downloads': '22255',\n",
       "  'likes': '693',\n",
       "  'name': 'TOWER CRANE -ASSEMBLY-'},\n",
       " {'comments': '64',\n",
       "  'downloads': '20407',\n",
       "  'likes': '689',\n",
       "  'name': 'Formula car full chassis'}]"
      ]
     },
     "execution_count": 10,
     "metadata": {
      "tags": []
     },
     "output_type": "execute_result"
    }
   ],
   "source": [
    "newlist=[]\n",
    "\n",
    "for i,j in zip(range(len(cad_model_names)),range(len(counts))):\n",
    "    newlist.append((cad_model_names[i])+(counts[j]))\n",
    "\n",
    "def parse (j):\n",
    "  \n",
    "  a=j[0]\n",
    "  b=j[1]\n",
    "  c=j[2]\n",
    "  d=j[3]\n",
    "  \n",
    "  return {'name':a,'downloads':b,'likes':c,'comments':d}\n",
    "\n",
    "\n",
    "combined_list=[parse(tag) for tag in newlist ]\n",
    "combined_list[:10]"
   ]
  },
  {
   "cell_type": "code",
   "execution_count": 19,
   "metadata": {
    "colab": {
     "base_uri": "https://localhost:8080/"
    },
    "executionInfo": {
     "elapsed": 548,
     "status": "ok",
     "timestamp": 1627189552483,
     "user": {
      "displayName": "Rishabh Dwivedi",
      "photoUrl": "https://lh3.googleusercontent.com/a-/AOh14GgemZpMFBMeu70g4UbrUUqq7nk6Zce9ykzGTTpd6g=s64",
      "userId": "11333895928926712569"
     },
     "user_tz": -330
    },
    "id": "1s-06FNrCc08",
    "outputId": "84695e52-ddcf-4917-effa-453b41fdced3"
   },
   "outputs": [
    {
     "name": "stdout",
     "output_type": "stream",
     "text": [
      "100\n"
     ]
    }
   ],
   "source": [
    "## Remove Duplicates with help of set function\n",
    "\n",
    "seen = set()\n",
    "new_l = []\n",
    "for d in combined_list:\n",
    "    t = tuple(d.items())\n",
    "    if t not in seen:\n",
    "        seen.add(t)\n",
    "        new_l.append(d)\n",
    "\n",
    "print(len(new_l))"
   ]
  },
  {
   "cell_type": "markdown",
   "metadata": {
    "id": "FDAptoPGI9Uo"
   },
   "source": [
    "# Create a CSV file"
   ]
  },
  {
   "cell_type": "code",
   "execution_count": 21,
   "metadata": {
    "colab": {
     "base_uri": "https://localhost:8080/",
     "height": 423
    },
    "executionInfo": {
     "elapsed": 624,
     "status": "ok",
     "timestamp": 1627189659495,
     "user": {
      "displayName": "Rishabh Dwivedi",
      "photoUrl": "https://lh3.googleusercontent.com/a-/AOh14GgemZpMFBMeu70g4UbrUUqq7nk6Zce9ykzGTTpd6g=s64",
      "userId": "11333895928926712569"
     },
     "user_tz": -330
    },
    "id": "6yOVz84QaOWZ",
    "outputId": "4e2839c1-5195-482f-9432-14dd34217c57"
   },
   "outputs": [
    {
     "data": {
      "text/html": [
       "<div>\n",
       "<style scoped>\n",
       "    .dataframe tbody tr th:only-of-type {\n",
       "        vertical-align: middle;\n",
       "    }\n",
       "\n",
       "    .dataframe tbody tr th {\n",
       "        vertical-align: top;\n",
       "    }\n",
       "\n",
       "    .dataframe thead th {\n",
       "        text-align: right;\n",
       "    }\n",
       "</style>\n",
       "<table border=\"1\" class=\"dataframe\">\n",
       "  <thead>\n",
       "    <tr style=\"text-align: right;\">\n",
       "      <th></th>\n",
       "      <th>name</th>\n",
       "      <th>downloads</th>\n",
       "      <th>likes</th>\n",
       "      <th>comments</th>\n",
       "    </tr>\n",
       "  </thead>\n",
       "  <tbody>\n",
       "    <tr>\n",
       "      <th>0</th>\n",
       "      <td>Stepper Motor Nema 17</td>\n",
       "      <td>41926</td>\n",
       "      <td>575</td>\n",
       "      <td>78</td>\n",
       "    </tr>\n",
       "    <tr>\n",
       "      <th>1</th>\n",
       "      <td>MQ-1 Predator UAV</td>\n",
       "      <td>31373</td>\n",
       "      <td>802</td>\n",
       "      <td>144</td>\n",
       "    </tr>\n",
       "    <tr>\n",
       "      <th>2</th>\n",
       "      <td>CNC 3 axis</td>\n",
       "      <td>30119</td>\n",
       "      <td>995</td>\n",
       "      <td>175</td>\n",
       "    </tr>\n",
       "    <tr>\n",
       "      <th>3</th>\n",
       "      <td>Planetary Gearbox</td>\n",
       "      <td>29051</td>\n",
       "      <td>900</td>\n",
       "      <td>189</td>\n",
       "    </tr>\n",
       "    <tr>\n",
       "      <th>4</th>\n",
       "      <td>mechanical horse</td>\n",
       "      <td>26882</td>\n",
       "      <td>721</td>\n",
       "      <td>347</td>\n",
       "    </tr>\n",
       "    <tr>\n",
       "      <th>...</th>\n",
       "      <td>...</td>\n",
       "      <td>...</td>\n",
       "      <td>...</td>\n",
       "      <td>...</td>\n",
       "    </tr>\n",
       "    <tr>\n",
       "      <th>95</th>\n",
       "      <td>Gear Collection</td>\n",
       "      <td>6785</td>\n",
       "      <td>621</td>\n",
       "      <td>49</td>\n",
       "    </tr>\n",
       "    <tr>\n",
       "      <th>96</th>\n",
       "      <td>Servo Robot ARM</td>\n",
       "      <td>6745</td>\n",
       "      <td>330</td>\n",
       "      <td>70</td>\n",
       "    </tr>\n",
       "    <tr>\n",
       "      <th>97</th>\n",
       "      <td>Tamiya King Hauler Truck Complete</td>\n",
       "      <td>6731</td>\n",
       "      <td>928</td>\n",
       "      <td>197</td>\n",
       "    </tr>\n",
       "    <tr>\n",
       "      <th>98</th>\n",
       "      <td>3-axis desktop cnc machining(concept model)</td>\n",
       "      <td>6689</td>\n",
       "      <td>299</td>\n",
       "      <td>27</td>\n",
       "    </tr>\n",
       "    <tr>\n",
       "      <th>99</th>\n",
       "      <td>KFL08 8mm Zinc-Aluminum Alloy Flange Pillow Bl...</td>\n",
       "      <td>6683</td>\n",
       "      <td>166</td>\n",
       "      <td>21</td>\n",
       "    </tr>\n",
       "  </tbody>\n",
       "</table>\n",
       "<p>100 rows × 4 columns</p>\n",
       "</div>"
      ],
      "text/plain": [
       "                                                 name downloads likes comments\n",
       "0                               Stepper Motor Nema 17     41926   575       78\n",
       "1                                   MQ-1 Predator UAV     31373   802      144\n",
       "2                                          CNC 3 axis     30119   995      175\n",
       "3                                   Planetary Gearbox     29051   900      189\n",
       "4                                    mechanical horse     26882   721      347\n",
       "..                                                ...       ...   ...      ...\n",
       "95                                    Gear Collection      6785   621       49\n",
       "96                                    Servo Robot ARM      6745   330       70\n",
       "97                  Tamiya King Hauler Truck Complete      6731   928      197\n",
       "98        3-axis desktop cnc machining(concept model)      6689   299       27\n",
       "99  KFL08 8mm Zinc-Aluminum Alloy Flange Pillow Bl...      6683   166       21\n",
       "\n",
       "[100 rows x 4 columns]"
      ]
     },
     "execution_count": 21,
     "metadata": {
      "tags": []
     },
     "output_type": "execute_result"
    }
   ],
   "source": [
    "import pandas as pd\n",
    "\n",
    "df_machine_design = pd.DataFrame(new_l)\n",
    "\n",
    "df_machine_design"
   ]
  },
  {
   "cell_type": "code",
   "execution_count": 22,
   "metadata": {
    "executionInfo": {
     "elapsed": 455,
     "status": "ok",
     "timestamp": 1627189671223,
     "user": {
      "displayName": "Rishabh Dwivedi",
      "photoUrl": "https://lh3.googleusercontent.com/a-/AOh14GgemZpMFBMeu70g4UbrUUqq7nk6Zce9ykzGTTpd6g=s64",
      "userId": "11333895928926712569"
     },
     "user_tz": -330
    },
    "id": "SwknEEVqa2-N"
   },
   "outputs": [],
   "source": [
    "# Finally we convert the DataFrame into a CSV file.\n",
    "\n",
    "df_machine_design.to_csv('machine_design_most_downloaded.csv', encoding='utf-8')\n"
   ]
  },
  {
   "cell_type": "markdown",
   "metadata": {
    "id": "cX6bpSgCcofl"
   },
   "source": [
    "<img src='https://drive.google.com/uc?id=1xBgQ89wuaYs-p5iGLDxwfwUpBsBurcLd'>\n",
    "\n"
   ]
  },
  {
   "cell_type": "markdown",
   "metadata": {
    "id": "NpWG4lWafgzp"
   },
   "source": [
    "# Summary\n",
    "\n",
    "*   kora.selenium is used to parse out data from a dynamic site on a cloud based platform (google colab)\n",
    "\n",
    "*   Information regarding CAD models on grabcad website is extracted.\n",
    "\n",
    "*   Creation of CSV file for the data extracted under individual category.\n",
    "\n",
    "*   While Scraping the data we came across intensive use of functions,list,dictionaries of python along with x_path, CSS selector and other documentation of selenium, as well which gives sufficient knowledge to parse most of the websites. \n",
    "\n",
    "\n",
    "\n",
    "\n",
    "\n",
    "\n"
   ]
  },
  {
   "cell_type": "markdown",
   "metadata": {
    "id": "_YHZx7vvjg4P"
   },
   "source": [
    "# Refference\n",
    "\n",
    "\n",
    "*   Selenium download and installation: \"https://selenium-python.readthedocs.io/installation.html\"\n",
    "\n",
    "*   https://www.analyticsvidhya.com/blog/2020/10/web-scraping-selenium-in-python/\n",
    "\n",
    "*   https://medium.com/ml-book/web-scraping-using-selenium-python-3be7b8762747\n",
    "\n",
    "*  https://medium.com/ml-book/web-scraping-using-selenium-python-3be7b8762747\n",
    "\n",
    "\n",
    "\n",
    "\n"
   ]
  },
  {
   "cell_type": "markdown",
   "metadata": {
    "id": "WDtO9FdvkEA8"
   },
   "source": [
    "# Future work\n",
    "\n",
    "*   Analysis based on this data can be done such as hypothesis testing of relation between number of downloads and community interest or between number of downloads and difficulty of models.\n",
    "\n",
    "*   Different categories can be clubbed and major analysis can be done on the 33*100 set of data across L.\n",
    "\n"
   ]
  },
  {
   "cell_type": "markdown",
   "metadata": {
    "id": "JXphrpjNIrlG"
   },
   "source": [
    "# Run the Codes and sub\n",
    "\n",
    "Use the \"Run\" button to execute the code."
   ]
  },
  {
   "cell_type": "code",
   "execution_count": 28,
   "metadata": {
    "colab": {
     "base_uri": "https://localhost:8080/",
     "height": 87
    },
    "executionInfo": {
     "elapsed": 2962,
     "status": "ok",
     "timestamp": 1627190162871,
     "user": {
      "displayName": "Rishabh Dwivedi",
      "photoUrl": "https://lh3.googleusercontent.com/a-/AOh14GgemZpMFBMeu70g4UbrUUqq7nk6Zce9ykzGTTpd6g=s64",
      "userId": "11333895928926712569"
     },
     "user_tz": -330
    },
    "id": "C1848eTPIrlH",
    "outputId": "90f8a796-f0d8-4a45-f6b5-a09501191adf"
   },
   "outputs": [
    {
     "name": "stdout",
     "output_type": "stream",
     "text": [
      "[jovian] Detected Colab notebook...\u001b[0m\n",
      "[jovian] Uploading colab notebook to Jovian...\u001b[0m\n",
      "Committed successfully! https://jovian.ai/dwivedi-rishabh95/project-web-scraping-with-python\n"
     ]
    },
    {
     "data": {
      "application/vnd.google.colaboratory.intrinsic+json": {
       "type": "string"
      },
      "text/plain": [
       "'https://jovian.ai/dwivedi-rishabh95/project-web-scraping-with-python'"
      ]
     },
     "execution_count": 28,
     "metadata": {
      "tags": []
     },
     "output_type": "execute_result"
    }
   ],
   "source": [
    "# Execute this to save new versions of the notebook\n",
    "jovian.commit(project=\"project-web-scraping-with-python\")"
   ]
  },
  {
   "cell_type": "code",
   "execution_count": 25,
   "metadata": {
    "colab": {
     "base_uri": "https://localhost:8080/",
     "height": 105
    },
    "executionInfo": {
     "elapsed": 2936,
     "status": "ok",
     "timestamp": 1627189880935,
     "user": {
      "displayName": "Rishabh Dwivedi",
      "photoUrl": "https://lh3.googleusercontent.com/a-/AOh14GgemZpMFBMeu70g4UbrUUqq7nk6Zce9ykzGTTpd6g=s64",
      "userId": "11333895928926712569"
     },
     "user_tz": -330
    },
    "id": "N8xBygZBIrlI",
    "outputId": "8abc069f-e2e2-41f8-ea13-119f09e52100"
   },
   "outputs": [
    {
     "name": "stdout",
     "output_type": "stream",
     "text": [
      "[jovian] Detected Colab notebook...\u001b[0m\n",
      "[jovian] Uploading colab notebook to Jovian...\u001b[0m\n",
      "[jovian] Uploading additional files...\u001b[0m\n",
      "Committed successfully! https://jovian.ai/dwivedi-rishabh95/project-web-scraping-with-python\n"
     ]
    },
    {
     "data": {
      "application/vnd.google.colaboratory.intrinsic+json": {
       "type": "string"
      },
      "text/plain": [
       "'https://jovian.ai/dwivedi-rishabh95/project-web-scraping-with-python'"
      ]
     },
     "execution_count": 25,
     "metadata": {
      "tags": []
     },
     "output_type": "execute_result"
    }
   ],
   "source": [
    "jovian.commit(files = ['machine_design_most_downloaded.csv'])"
   ]
  },
  {
   "cell_type": "code",
   "execution_count": 27,
   "metadata": {
    "colab": {
     "base_uri": "https://localhost:8080/"
    },
    "executionInfo": {
     "elapsed": 742,
     "status": "ok",
     "timestamp": 1627190136563,
     "user": {
      "displayName": "Rishabh Dwivedi",
      "photoUrl": "https://lh3.googleusercontent.com/a-/AOh14GgemZpMFBMeu70g4UbrUUqq7nk6Zce9ykzGTTpd6g=s64",
      "userId": "11333895928926712569"
     },
     "user_tz": -330
    },
    "id": "q0DuD4REExlu",
    "outputId": "3ff7da56-cc9a-4d26-8d9c-3dd5fa8249a2"
   },
   "outputs": [
    {
     "name": "stdout",
     "output_type": "stream",
     "text": [
      "[jovian] Submitting assignment..\u001b[0m\n"
     ]
    },
    {
     "name": "stderr",
     "output_type": "stream",
     "text": [
      "\u001b[31m[jovian] Error: Jovian submit failed. (HTTP 404) Assignment not found\u001b[0m\n"
     ]
    }
   ],
   "source": [
    "jovian.submit(assignment=\"project-web-scraping-with-python\",\n",
    "              notebook_url=\"https://jovian.ai/dwivedi-rishabh95/project-web-scraping-with-python\")\n"
   ]
  },
  {
   "cell_type": "code",
   "execution_count": null,
   "metadata": {
    "id": "gkHml4wWFIZq"
   },
   "outputs": [],
   "source": []
  }
 ],
 "metadata": {
  "colab": {
   "name": "project-web-scraping-with-python.ipynb",
   "provenance": []
  },
  "kernelspec": {
   "display_name": "Python 3",
   "language": "python",
   "name": "python3"
  },
  "language_info": {
   "codemirror_mode": {
    "name": "ipython",
    "version": 3
   },
   "file_extension": ".py",
   "mimetype": "text/x-python",
   "name": "python",
   "nbconvert_exporter": "python",
   "pygments_lexer": "ipython3",
   "version": "3.9.5"
  }
 },
 "nbformat": 4,
 "nbformat_minor": 0
}